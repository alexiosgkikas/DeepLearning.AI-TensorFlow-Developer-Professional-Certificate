{
 "cells": [
  {
   "cell_type": "markdown",
   "metadata": {},
   "source": [
    "Problem #630 [Medium]<br> \n",
    "Implement a job scheduler which takes in a function f and an integer n, and calls f after n milliseconds"
   ]
  },
  {
   "cell_type": "markdown",
   "metadata": {},
   "source": [
    "Problem #629 [Medium] <br>\n",
    "Given an array of numbers N and an integer k, your task is to split N into k partitions such that the maximum sum of any partition is minimized. Return this sum.\n",
    "For example, given N = [5, 1, 2, 7, 3, 4] and k = 3, you should return 8, since the optimal partition is [5, 1, 2], [7], [3, 4]."
   ]
  },
  {
   "cell_type": "code",
   "execution_count": 3,
   "metadata": {},
   "outputs": [
    {
     "name": "stdout",
     "output_type": "stream",
     "text": [
      "8\n"
     ]
    }
   ],
   "source": [
    "# Python 3 implemenattion of the above approach \n",
    "  \n",
    "# Function to check if mid can \n",
    "# be maximum sub - arrays sum \n",
    "def check(mid, array, n, K): \n",
    "    count = 0\n",
    "    sum = 0\n",
    "    for i in range(n): \n",
    "          \n",
    "        # If individual element is greater \n",
    "        # maximum possible sum \n",
    "        if (array[i] > mid): \n",
    "            return False\n",
    "  \n",
    "        # Increase sum of current sub - array \n",
    "        sum += array[i] \n",
    "  \n",
    "        # If the sum is greater than  \n",
    "        # mid increase count \n",
    "        if (sum > mid): \n",
    "            count += 1\n",
    "            sum = array[i] \n",
    "    count += 1\n",
    "  \n",
    "    # Check condition \n",
    "    if (count <= K): \n",
    "        return True\n",
    "    return False\n",
    "  \n",
    "# Function to find maximum subarray sum \n",
    "# which is minimum \n",
    "def solve(array, n, K): \n",
    "    start = 1\n",
    "    end = 0\n",
    "  \n",
    "    for i in range(n): \n",
    "        end += array[i] \n",
    "  \n",
    "    # Answer stores possible  \n",
    "    # maximum sub array sum \n",
    "    answer = 0\n",
    "    while (start <= end): \n",
    "        mid = (start + end) // 2\n",
    "  \n",
    "        # If mid is possible solution \n",
    "        # Put answer = mid; \n",
    "        if (check(mid, array, n, K)): \n",
    "            answer = mid \n",
    "            end = mid - 1\n",
    "        else: \n",
    "            start = mid + 1\n",
    "  \n",
    "    return answer \n",
    "  \n",
    "# Driver Code \n",
    "array = [5, 1, 2, 7, 3, 4] \n",
    "n = len(array) \n",
    "K = 3\n",
    "print(solve(array, n, K)) \n",
    "      \n",
    "# This code is contributed by \n",
    "# Surendra_Gangwar \n",
    "\n",
    "\n"
   ]
  },
  {
   "cell_type": "markdown",
   "metadata": {},
   "source": [
    "You are given a circular lock with three wheels, each of which display the numbers 0 through 9 in order. Each of these wheels rotate clockwise and counterclockwise.\n",
    "In addition, the lock has a certain number of \"dead ends\", meaning that if you turn the wheels to one of these combinations, the lock becomes stuck in that state and cannot be opened.\n",
    "Let us consider a \"move\" to be a rotation of a single wheel by one digit, in either direction. Given a lock initially set to 000, a target combination, and a list of dead ends, write a function that returns the minimum number of moves required to reach the target state, or None if this is impossible.\n"
   ]
  }
 ],
 "metadata": {
  "kernelspec": {
   "display_name": "Python 3",
   "language": "python",
   "name": "python3"
  },
  "language_info": {
   "codemirror_mode": {
    "name": "ipython",
    "version": 3
   },
   "file_extension": ".py",
   "mimetype": "text/x-python",
   "name": "python",
   "nbconvert_exporter": "python",
   "pygments_lexer": "ipython3",
   "version": "3.8.3"
  }
 },
 "nbformat": 4,
 "nbformat_minor": 4
}
